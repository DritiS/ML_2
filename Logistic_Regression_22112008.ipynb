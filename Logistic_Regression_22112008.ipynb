{
 "cells": [
  {
   "cell_type": "code",
   "execution_count": 1,
   "id": "dfdf8363",
   "metadata": {},
   "outputs": [],
   "source": [
    "import numpy as np\n",
    "import pandas as pd\n",
    "from sklearn.model_selection import train_test_split\n",
    "from sklearn.compose import ColumnTransformer\n",
    "from sklearn.impute import SimpleImputer\n",
    "from sklearn.preprocessing import OneHotEncoder\n",
    "\n",
    "from sklearn.linear_model import LogisticRegression\n",
    "from sklearn.pipeline import Pipeline,make_pipeline\n",
    "from sklearn.feature_selection import SelectKBest,chi2\n",
    "from sklearn.preprocessing import FunctionTransformer"
   ]
  },
  {
   "cell_type": "code",
   "execution_count": 2,
   "id": "d8f6dffc",
   "metadata": {},
   "outputs": [
    {
     "data": {
      "text/html": [
       "<div>\n",
       "<style scoped>\n",
       "    .dataframe tbody tr th:only-of-type {\n",
       "        vertical-align: middle;\n",
       "    }\n",
       "\n",
       "    .dataframe tbody tr th {\n",
       "        vertical-align: top;\n",
       "    }\n",
       "\n",
       "    .dataframe thead th {\n",
       "        text-align: right;\n",
       "    }\n",
       "</style>\n",
       "<table border=\"1\" class=\"dataframe\">\n",
       "  <thead>\n",
       "    <tr style=\"text-align: right;\">\n",
       "      <th></th>\n",
       "      <th>Tipster</th>\n",
       "      <th>Date</th>\n",
       "      <th>Track</th>\n",
       "      <th>Horse</th>\n",
       "      <th>Bet Type</th>\n",
       "      <th>Odds</th>\n",
       "      <th>Result</th>\n",
       "      <th>TipsterActive</th>\n",
       "    </tr>\n",
       "  </thead>\n",
       "  <tbody>\n",
       "    <tr>\n",
       "      <th>0</th>\n",
       "      <td>Tipster A</td>\n",
       "      <td>24-07-2015</td>\n",
       "      <td>Ascot</td>\n",
       "      <td>Fredricka</td>\n",
       "      <td>Win</td>\n",
       "      <td>8.00</td>\n",
       "      <td>Lose</td>\n",
       "      <td>True</td>\n",
       "    </tr>\n",
       "    <tr>\n",
       "      <th>1</th>\n",
       "      <td>Tipster A</td>\n",
       "      <td>24-07-2015</td>\n",
       "      <td>Thirsk</td>\n",
       "      <td>Spend A Penny</td>\n",
       "      <td>Win</td>\n",
       "      <td>4.50</td>\n",
       "      <td>Lose</td>\n",
       "      <td>True</td>\n",
       "    </tr>\n",
       "    <tr>\n",
       "      <th>2</th>\n",
       "      <td>Tipster A</td>\n",
       "      <td>24-07-2015</td>\n",
       "      <td>York</td>\n",
       "      <td>Straightothepoint</td>\n",
       "      <td>Win</td>\n",
       "      <td>7.00</td>\n",
       "      <td>Lose</td>\n",
       "      <td>True</td>\n",
       "    </tr>\n",
       "    <tr>\n",
       "      <th>3</th>\n",
       "      <td>Tipster A</td>\n",
       "      <td>24-07-2015</td>\n",
       "      <td>Newmarket</td>\n",
       "      <td>Miss Inga Sock</td>\n",
       "      <td>Win</td>\n",
       "      <td>5.00</td>\n",
       "      <td>Lose</td>\n",
       "      <td>True</td>\n",
       "    </tr>\n",
       "    <tr>\n",
       "      <th>4</th>\n",
       "      <td>Tipster A</td>\n",
       "      <td>25-07-2015</td>\n",
       "      <td>Ascot</td>\n",
       "      <td>Peril</td>\n",
       "      <td>Win</td>\n",
       "      <td>4.33</td>\n",
       "      <td>Win</td>\n",
       "      <td>True</td>\n",
       "    </tr>\n",
       "  </tbody>\n",
       "</table>\n",
       "</div>"
      ],
      "text/plain": [
       "     Tipster        Date      Track              Horse Bet Type  Odds Result  \\\n",
       "0  Tipster A  24-07-2015      Ascot          Fredricka      Win  8.00   Lose   \n",
       "1  Tipster A  24-07-2015     Thirsk      Spend A Penny      Win  4.50   Lose   \n",
       "2  Tipster A  24-07-2015       York  Straightothepoint      Win  7.00   Lose   \n",
       "3  Tipster A  24-07-2015  Newmarket     Miss Inga Sock      Win  5.00   Lose   \n",
       "4  Tipster A  25-07-2015      Ascot              Peril      Win  4.33    Win   \n",
       "\n",
       "   TipsterActive  \n",
       "0           True  \n",
       "1           True  \n",
       "2           True  \n",
       "3           True  \n",
       "4           True  "
      ]
     },
     "execution_count": 2,
     "metadata": {},
     "output_type": "execute_result"
    }
   ],
   "source": [
    "df = pd.read_csv('Horse_Win.csv')\n",
    "df.head()"
   ]
  },
  {
   "cell_type": "code",
   "execution_count": 3,
   "id": "2419b8ce",
   "metadata": {},
   "outputs": [
    {
     "data": {
      "text/plain": [
       "(38248, 8)"
      ]
     },
     "execution_count": 3,
     "metadata": {},
     "output_type": "execute_result"
    }
   ],
   "source": [
    "df.shape"
   ]
  },
  {
   "cell_type": "code",
   "execution_count": 4,
   "id": "a610f75e",
   "metadata": {},
   "outputs": [
    {
     "name": "stdout",
     "output_type": "stream",
     "text": [
      "8\n"
     ]
    }
   ],
   "source": [
    "count = 0\n",
    "for i in df['Horse']:\n",
    "    if i == \"Fredricka\":\n",
    "        count = count + 1\n",
    "print(count)"
   ]
  },
  {
   "cell_type": "code",
   "execution_count": 5,
   "id": "127f9d6a",
   "metadata": {},
   "outputs": [
    {
     "data": {
      "text/plain": [
       "Tipster          0\n",
       "Date             0\n",
       "Track            0\n",
       "Horse            0\n",
       "Bet Type         0\n",
       "Odds             0\n",
       "Result           0\n",
       "TipsterActive    0\n",
       "dtype: int64"
      ]
     },
     "execution_count": 5,
     "metadata": {},
     "output_type": "execute_result"
    }
   ],
   "source": [
    "df.isna().sum()"
   ]
  },
  {
   "cell_type": "code",
   "execution_count": 6,
   "id": "f2a2fc11",
   "metadata": {},
   "outputs": [],
   "source": [
    "df['Date'] = pd.to_datetime(df['Date'], format='%d-%m-%Y')"
   ]
  },
  {
   "cell_type": "code",
   "execution_count": 7,
   "id": "1376b978",
   "metadata": {},
   "outputs": [],
   "source": [
    "df['date_year'] = df['Date'].dt.year"
   ]
  },
  {
   "cell_type": "code",
   "execution_count": 8,
   "id": "53c04f18",
   "metadata": {},
   "outputs": [],
   "source": [
    "df['date_month_no'] = df['Date'].dt.month"
   ]
  },
  {
   "cell_type": "code",
   "execution_count": 9,
   "id": "5f5baa21",
   "metadata": {},
   "outputs": [],
   "source": [
    "df['date_day'] = df['Date'].dt.day"
   ]
  },
  {
   "cell_type": "code",
   "execution_count": 10,
   "id": "71b07295",
   "metadata": {},
   "outputs": [],
   "source": [
    "df['date_dow'] = df['Date'].dt.dayofweek"
   ]
  },
  {
   "cell_type": "code",
   "execution_count": 11,
   "id": "6bfd5066",
   "metadata": {},
   "outputs": [],
   "source": [
    "df['date_is_weekend'] = np.where(df['date_dow'].isin([0,1]), 1,0)"
   ]
  },
  {
   "cell_type": "code",
   "execution_count": 12,
   "id": "05c27988",
   "metadata": {},
   "outputs": [
    {
     "data": {
      "text/html": [
       "<div>\n",
       "<style scoped>\n",
       "    .dataframe tbody tr th:only-of-type {\n",
       "        vertical-align: middle;\n",
       "    }\n",
       "\n",
       "    .dataframe tbody tr th {\n",
       "        vertical-align: top;\n",
       "    }\n",
       "\n",
       "    .dataframe thead th {\n",
       "        text-align: right;\n",
       "    }\n",
       "</style>\n",
       "<table border=\"1\" class=\"dataframe\">\n",
       "  <thead>\n",
       "    <tr style=\"text-align: right;\">\n",
       "      <th></th>\n",
       "      <th>Tipster</th>\n",
       "      <th>Date</th>\n",
       "      <th>Track</th>\n",
       "      <th>Horse</th>\n",
       "      <th>Bet Type</th>\n",
       "      <th>Odds</th>\n",
       "      <th>Result</th>\n",
       "      <th>TipsterActive</th>\n",
       "      <th>date_year</th>\n",
       "      <th>date_month_no</th>\n",
       "      <th>date_day</th>\n",
       "      <th>date_dow</th>\n",
       "      <th>date_is_weekend</th>\n",
       "    </tr>\n",
       "  </thead>\n",
       "  <tbody>\n",
       "    <tr>\n",
       "      <th>0</th>\n",
       "      <td>Tipster A</td>\n",
       "      <td>2015-07-24</td>\n",
       "      <td>Ascot</td>\n",
       "      <td>Fredricka</td>\n",
       "      <td>Win</td>\n",
       "      <td>8.00</td>\n",
       "      <td>Lose</td>\n",
       "      <td>True</td>\n",
       "      <td>2015</td>\n",
       "      <td>7</td>\n",
       "      <td>24</td>\n",
       "      <td>4</td>\n",
       "      <td>0</td>\n",
       "    </tr>\n",
       "    <tr>\n",
       "      <th>1</th>\n",
       "      <td>Tipster A</td>\n",
       "      <td>2015-07-24</td>\n",
       "      <td>Thirsk</td>\n",
       "      <td>Spend A Penny</td>\n",
       "      <td>Win</td>\n",
       "      <td>4.50</td>\n",
       "      <td>Lose</td>\n",
       "      <td>True</td>\n",
       "      <td>2015</td>\n",
       "      <td>7</td>\n",
       "      <td>24</td>\n",
       "      <td>4</td>\n",
       "      <td>0</td>\n",
       "    </tr>\n",
       "    <tr>\n",
       "      <th>2</th>\n",
       "      <td>Tipster A</td>\n",
       "      <td>2015-07-24</td>\n",
       "      <td>York</td>\n",
       "      <td>Straightothepoint</td>\n",
       "      <td>Win</td>\n",
       "      <td>7.00</td>\n",
       "      <td>Lose</td>\n",
       "      <td>True</td>\n",
       "      <td>2015</td>\n",
       "      <td>7</td>\n",
       "      <td>24</td>\n",
       "      <td>4</td>\n",
       "      <td>0</td>\n",
       "    </tr>\n",
       "    <tr>\n",
       "      <th>3</th>\n",
       "      <td>Tipster A</td>\n",
       "      <td>2015-07-24</td>\n",
       "      <td>Newmarket</td>\n",
       "      <td>Miss Inga Sock</td>\n",
       "      <td>Win</td>\n",
       "      <td>5.00</td>\n",
       "      <td>Lose</td>\n",
       "      <td>True</td>\n",
       "      <td>2015</td>\n",
       "      <td>7</td>\n",
       "      <td>24</td>\n",
       "      <td>4</td>\n",
       "      <td>0</td>\n",
       "    </tr>\n",
       "    <tr>\n",
       "      <th>4</th>\n",
       "      <td>Tipster A</td>\n",
       "      <td>2015-07-25</td>\n",
       "      <td>Ascot</td>\n",
       "      <td>Peril</td>\n",
       "      <td>Win</td>\n",
       "      <td>4.33</td>\n",
       "      <td>Win</td>\n",
       "      <td>True</td>\n",
       "      <td>2015</td>\n",
       "      <td>7</td>\n",
       "      <td>25</td>\n",
       "      <td>5</td>\n",
       "      <td>0</td>\n",
       "    </tr>\n",
       "    <tr>\n",
       "      <th>...</th>\n",
       "      <td>...</td>\n",
       "      <td>...</td>\n",
       "      <td>...</td>\n",
       "      <td>...</td>\n",
       "      <td>...</td>\n",
       "      <td>...</td>\n",
       "      <td>...</td>\n",
       "      <td>...</td>\n",
       "      <td>...</td>\n",
       "      <td>...</td>\n",
       "      <td>...</td>\n",
       "      <td>...</td>\n",
       "      <td>...</td>\n",
       "    </tr>\n",
       "    <tr>\n",
       "      <th>38243</th>\n",
       "      <td>Tipster E1</td>\n",
       "      <td>2016-04-02</td>\n",
       "      <td>Kempton</td>\n",
       "      <td>Solar Flair</td>\n",
       "      <td>Win</td>\n",
       "      <td>7.00</td>\n",
       "      <td>Lose</td>\n",
       "      <td>False</td>\n",
       "      <td>2016</td>\n",
       "      <td>4</td>\n",
       "      <td>2</td>\n",
       "      <td>5</td>\n",
       "      <td>0</td>\n",
       "    </tr>\n",
       "    <tr>\n",
       "      <th>38244</th>\n",
       "      <td>Tipster E1</td>\n",
       "      <td>2016-04-02</td>\n",
       "      <td>Doncaster</td>\n",
       "      <td>Express Himself</td>\n",
       "      <td>Each Way</td>\n",
       "      <td>12.00</td>\n",
       "      <td>Lose</td>\n",
       "      <td>False</td>\n",
       "      <td>2016</td>\n",
       "      <td>4</td>\n",
       "      <td>2</td>\n",
       "      <td>5</td>\n",
       "      <td>0</td>\n",
       "    </tr>\n",
       "    <tr>\n",
       "      <th>38245</th>\n",
       "      <td>Tipster E1</td>\n",
       "      <td>2016-04-02</td>\n",
       "      <td>Doncaster</td>\n",
       "      <td>Jack Dexter</td>\n",
       "      <td>Win</td>\n",
       "      <td>7.00</td>\n",
       "      <td>Lose</td>\n",
       "      <td>False</td>\n",
       "      <td>2016</td>\n",
       "      <td>4</td>\n",
       "      <td>2</td>\n",
       "      <td>5</td>\n",
       "      <td>0</td>\n",
       "    </tr>\n",
       "    <tr>\n",
       "      <th>38246</th>\n",
       "      <td>Tipster E1</td>\n",
       "      <td>2016-04-02</td>\n",
       "      <td>Kelso</td>\n",
       "      <td>Just Cameron</td>\n",
       "      <td>Win</td>\n",
       "      <td>4.33</td>\n",
       "      <td>Lose</td>\n",
       "      <td>False</td>\n",
       "      <td>2016</td>\n",
       "      <td>4</td>\n",
       "      <td>2</td>\n",
       "      <td>5</td>\n",
       "      <td>0</td>\n",
       "    </tr>\n",
       "    <tr>\n",
       "      <th>38247</th>\n",
       "      <td>Tipster E1</td>\n",
       "      <td>2016-05-31</td>\n",
       "      <td>Redcar</td>\n",
       "      <td>Dream Farr</td>\n",
       "      <td>Win</td>\n",
       "      <td>5.00</td>\n",
       "      <td>Lose</td>\n",
       "      <td>False</td>\n",
       "      <td>2016</td>\n",
       "      <td>5</td>\n",
       "      <td>31</td>\n",
       "      <td>1</td>\n",
       "      <td>1</td>\n",
       "    </tr>\n",
       "  </tbody>\n",
       "</table>\n",
       "<p>38248 rows × 13 columns</p>\n",
       "</div>"
      ],
      "text/plain": [
       "          Tipster       Date      Track              Horse  Bet Type   Odds  \\\n",
       "0       Tipster A 2015-07-24      Ascot          Fredricka       Win   8.00   \n",
       "1       Tipster A 2015-07-24     Thirsk      Spend A Penny       Win   4.50   \n",
       "2       Tipster A 2015-07-24       York  Straightothepoint       Win   7.00   \n",
       "3       Tipster A 2015-07-24  Newmarket     Miss Inga Sock       Win   5.00   \n",
       "4       Tipster A 2015-07-25      Ascot              Peril       Win   4.33   \n",
       "...           ...        ...        ...                ...       ...    ...   \n",
       "38243  Tipster E1 2016-04-02    Kempton        Solar Flair       Win   7.00   \n",
       "38244  Tipster E1 2016-04-02  Doncaster    Express Himself  Each Way  12.00   \n",
       "38245  Tipster E1 2016-04-02  Doncaster        Jack Dexter       Win   7.00   \n",
       "38246  Tipster E1 2016-04-02      Kelso       Just Cameron       Win   4.33   \n",
       "38247  Tipster E1 2016-05-31     Redcar         Dream Farr       Win   5.00   \n",
       "\n",
       "      Result  TipsterActive  date_year  date_month_no  date_day  date_dow  \\\n",
       "0       Lose           True       2015              7        24         4   \n",
       "1       Lose           True       2015              7        24         4   \n",
       "2       Lose           True       2015              7        24         4   \n",
       "3       Lose           True       2015              7        24         4   \n",
       "4        Win           True       2015              7        25         5   \n",
       "...      ...            ...        ...            ...       ...       ...   \n",
       "38243   Lose          False       2016              4         2         5   \n",
       "38244   Lose          False       2016              4         2         5   \n",
       "38245   Lose          False       2016              4         2         5   \n",
       "38246   Lose          False       2016              4         2         5   \n",
       "38247   Lose          False       2016              5        31         1   \n",
       "\n",
       "       date_is_weekend  \n",
       "0                    0  \n",
       "1                    0  \n",
       "2                    0  \n",
       "3                    0  \n",
       "4                    0  \n",
       "...                ...  \n",
       "38243                0  \n",
       "38244                0  \n",
       "38245                0  \n",
       "38246                0  \n",
       "38247                1  \n",
       "\n",
       "[38248 rows x 13 columns]"
      ]
     },
     "execution_count": 12,
     "metadata": {},
     "output_type": "execute_result"
    }
   ],
   "source": [
    "df"
   ]
  },
  {
   "cell_type": "code",
   "execution_count": 13,
   "id": "f7b0b7c9",
   "metadata": {},
   "outputs": [],
   "source": [
    "df = df.drop(columns=['Date'],axis=1)"
   ]
  },
  {
   "cell_type": "code",
   "execution_count": 14,
   "id": "bfd8f1f8",
   "metadata": {},
   "outputs": [
    {
     "data": {
      "text/html": [
       "<div>\n",
       "<style scoped>\n",
       "    .dataframe tbody tr th:only-of-type {\n",
       "        vertical-align: middle;\n",
       "    }\n",
       "\n",
       "    .dataframe tbody tr th {\n",
       "        vertical-align: top;\n",
       "    }\n",
       "\n",
       "    .dataframe thead th {\n",
       "        text-align: right;\n",
       "    }\n",
       "</style>\n",
       "<table border=\"1\" class=\"dataframe\">\n",
       "  <thead>\n",
       "    <tr style=\"text-align: right;\">\n",
       "      <th></th>\n",
       "      <th>Tipster</th>\n",
       "      <th>Track</th>\n",
       "      <th>Horse</th>\n",
       "      <th>Bet Type</th>\n",
       "      <th>Odds</th>\n",
       "      <th>Result</th>\n",
       "      <th>TipsterActive</th>\n",
       "      <th>date_year</th>\n",
       "      <th>date_month_no</th>\n",
       "      <th>date_day</th>\n",
       "      <th>date_dow</th>\n",
       "      <th>date_is_weekend</th>\n",
       "    </tr>\n",
       "  </thead>\n",
       "  <tbody>\n",
       "    <tr>\n",
       "      <th>0</th>\n",
       "      <td>Tipster A</td>\n",
       "      <td>Ascot</td>\n",
       "      <td>Fredricka</td>\n",
       "      <td>Win</td>\n",
       "      <td>8.00</td>\n",
       "      <td>Lose</td>\n",
       "      <td>True</td>\n",
       "      <td>2015</td>\n",
       "      <td>7</td>\n",
       "      <td>24</td>\n",
       "      <td>4</td>\n",
       "      <td>0</td>\n",
       "    </tr>\n",
       "    <tr>\n",
       "      <th>1</th>\n",
       "      <td>Tipster A</td>\n",
       "      <td>Thirsk</td>\n",
       "      <td>Spend A Penny</td>\n",
       "      <td>Win</td>\n",
       "      <td>4.50</td>\n",
       "      <td>Lose</td>\n",
       "      <td>True</td>\n",
       "      <td>2015</td>\n",
       "      <td>7</td>\n",
       "      <td>24</td>\n",
       "      <td>4</td>\n",
       "      <td>0</td>\n",
       "    </tr>\n",
       "    <tr>\n",
       "      <th>2</th>\n",
       "      <td>Tipster A</td>\n",
       "      <td>York</td>\n",
       "      <td>Straightothepoint</td>\n",
       "      <td>Win</td>\n",
       "      <td>7.00</td>\n",
       "      <td>Lose</td>\n",
       "      <td>True</td>\n",
       "      <td>2015</td>\n",
       "      <td>7</td>\n",
       "      <td>24</td>\n",
       "      <td>4</td>\n",
       "      <td>0</td>\n",
       "    </tr>\n",
       "    <tr>\n",
       "      <th>3</th>\n",
       "      <td>Tipster A</td>\n",
       "      <td>Newmarket</td>\n",
       "      <td>Miss Inga Sock</td>\n",
       "      <td>Win</td>\n",
       "      <td>5.00</td>\n",
       "      <td>Lose</td>\n",
       "      <td>True</td>\n",
       "      <td>2015</td>\n",
       "      <td>7</td>\n",
       "      <td>24</td>\n",
       "      <td>4</td>\n",
       "      <td>0</td>\n",
       "    </tr>\n",
       "    <tr>\n",
       "      <th>4</th>\n",
       "      <td>Tipster A</td>\n",
       "      <td>Ascot</td>\n",
       "      <td>Peril</td>\n",
       "      <td>Win</td>\n",
       "      <td>4.33</td>\n",
       "      <td>Win</td>\n",
       "      <td>True</td>\n",
       "      <td>2015</td>\n",
       "      <td>7</td>\n",
       "      <td>25</td>\n",
       "      <td>5</td>\n",
       "      <td>0</td>\n",
       "    </tr>\n",
       "    <tr>\n",
       "      <th>...</th>\n",
       "      <td>...</td>\n",
       "      <td>...</td>\n",
       "      <td>...</td>\n",
       "      <td>...</td>\n",
       "      <td>...</td>\n",
       "      <td>...</td>\n",
       "      <td>...</td>\n",
       "      <td>...</td>\n",
       "      <td>...</td>\n",
       "      <td>...</td>\n",
       "      <td>...</td>\n",
       "      <td>...</td>\n",
       "    </tr>\n",
       "    <tr>\n",
       "      <th>38243</th>\n",
       "      <td>Tipster E1</td>\n",
       "      <td>Kempton</td>\n",
       "      <td>Solar Flair</td>\n",
       "      <td>Win</td>\n",
       "      <td>7.00</td>\n",
       "      <td>Lose</td>\n",
       "      <td>False</td>\n",
       "      <td>2016</td>\n",
       "      <td>4</td>\n",
       "      <td>2</td>\n",
       "      <td>5</td>\n",
       "      <td>0</td>\n",
       "    </tr>\n",
       "    <tr>\n",
       "      <th>38244</th>\n",
       "      <td>Tipster E1</td>\n",
       "      <td>Doncaster</td>\n",
       "      <td>Express Himself</td>\n",
       "      <td>Each Way</td>\n",
       "      <td>12.00</td>\n",
       "      <td>Lose</td>\n",
       "      <td>False</td>\n",
       "      <td>2016</td>\n",
       "      <td>4</td>\n",
       "      <td>2</td>\n",
       "      <td>5</td>\n",
       "      <td>0</td>\n",
       "    </tr>\n",
       "    <tr>\n",
       "      <th>38245</th>\n",
       "      <td>Tipster E1</td>\n",
       "      <td>Doncaster</td>\n",
       "      <td>Jack Dexter</td>\n",
       "      <td>Win</td>\n",
       "      <td>7.00</td>\n",
       "      <td>Lose</td>\n",
       "      <td>False</td>\n",
       "      <td>2016</td>\n",
       "      <td>4</td>\n",
       "      <td>2</td>\n",
       "      <td>5</td>\n",
       "      <td>0</td>\n",
       "    </tr>\n",
       "    <tr>\n",
       "      <th>38246</th>\n",
       "      <td>Tipster E1</td>\n",
       "      <td>Kelso</td>\n",
       "      <td>Just Cameron</td>\n",
       "      <td>Win</td>\n",
       "      <td>4.33</td>\n",
       "      <td>Lose</td>\n",
       "      <td>False</td>\n",
       "      <td>2016</td>\n",
       "      <td>4</td>\n",
       "      <td>2</td>\n",
       "      <td>5</td>\n",
       "      <td>0</td>\n",
       "    </tr>\n",
       "    <tr>\n",
       "      <th>38247</th>\n",
       "      <td>Tipster E1</td>\n",
       "      <td>Redcar</td>\n",
       "      <td>Dream Farr</td>\n",
       "      <td>Win</td>\n",
       "      <td>5.00</td>\n",
       "      <td>Lose</td>\n",
       "      <td>False</td>\n",
       "      <td>2016</td>\n",
       "      <td>5</td>\n",
       "      <td>31</td>\n",
       "      <td>1</td>\n",
       "      <td>1</td>\n",
       "    </tr>\n",
       "  </tbody>\n",
       "</table>\n",
       "<p>38248 rows × 12 columns</p>\n",
       "</div>"
      ],
      "text/plain": [
       "          Tipster      Track              Horse  Bet Type   Odds Result  \\\n",
       "0       Tipster A      Ascot          Fredricka       Win   8.00   Lose   \n",
       "1       Tipster A     Thirsk      Spend A Penny       Win   4.50   Lose   \n",
       "2       Tipster A       York  Straightothepoint       Win   7.00   Lose   \n",
       "3       Tipster A  Newmarket     Miss Inga Sock       Win   5.00   Lose   \n",
       "4       Tipster A      Ascot              Peril       Win   4.33    Win   \n",
       "...           ...        ...                ...       ...    ...    ...   \n",
       "38243  Tipster E1    Kempton        Solar Flair       Win   7.00   Lose   \n",
       "38244  Tipster E1  Doncaster    Express Himself  Each Way  12.00   Lose   \n",
       "38245  Tipster E1  Doncaster        Jack Dexter       Win   7.00   Lose   \n",
       "38246  Tipster E1      Kelso       Just Cameron       Win   4.33   Lose   \n",
       "38247  Tipster E1     Redcar         Dream Farr       Win   5.00   Lose   \n",
       "\n",
       "       TipsterActive  date_year  date_month_no  date_day  date_dow  \\\n",
       "0               True       2015              7        24         4   \n",
       "1               True       2015              7        24         4   \n",
       "2               True       2015              7        24         4   \n",
       "3               True       2015              7        24         4   \n",
       "4               True       2015              7        25         5   \n",
       "...              ...        ...            ...       ...       ...   \n",
       "38243          False       2016              4         2         5   \n",
       "38244          False       2016              4         2         5   \n",
       "38245          False       2016              4         2         5   \n",
       "38246          False       2016              4         2         5   \n",
       "38247          False       2016              5        31         1   \n",
       "\n",
       "       date_is_weekend  \n",
       "0                    0  \n",
       "1                    0  \n",
       "2                    0  \n",
       "3                    0  \n",
       "4                    0  \n",
       "...                ...  \n",
       "38243                0  \n",
       "38244                0  \n",
       "38245                0  \n",
       "38246                0  \n",
       "38247                1  \n",
       "\n",
       "[38248 rows x 12 columns]"
      ]
     },
     "execution_count": 14,
     "metadata": {},
     "output_type": "execute_result"
    }
   ],
   "source": [
    "df"
   ]
  },
  {
   "cell_type": "code",
   "execution_count": 15,
   "id": "164f4d5d",
   "metadata": {},
   "outputs": [],
   "source": [
    "X_train,X_test,y_train,y_test = train_test_split(df.drop(columns=['Result']),df['Result'],test_size=0.2,random_state=42)"
   ]
  },
  {
   "cell_type": "code",
   "execution_count": 16,
   "id": "34838a85",
   "metadata": {},
   "outputs": [
    {
     "data": {
      "text/html": [
       "<div>\n",
       "<style scoped>\n",
       "    .dataframe tbody tr th:only-of-type {\n",
       "        vertical-align: middle;\n",
       "    }\n",
       "\n",
       "    .dataframe tbody tr th {\n",
       "        vertical-align: top;\n",
       "    }\n",
       "\n",
       "    .dataframe thead th {\n",
       "        text-align: right;\n",
       "    }\n",
       "</style>\n",
       "<table border=\"1\" class=\"dataframe\">\n",
       "  <thead>\n",
       "    <tr style=\"text-align: right;\">\n",
       "      <th></th>\n",
       "      <th>Tipster</th>\n",
       "      <th>Track</th>\n",
       "      <th>Horse</th>\n",
       "      <th>Bet Type</th>\n",
       "      <th>Odds</th>\n",
       "      <th>TipsterActive</th>\n",
       "      <th>date_year</th>\n",
       "      <th>date_month_no</th>\n",
       "      <th>date_day</th>\n",
       "      <th>date_dow</th>\n",
       "      <th>date_is_weekend</th>\n",
       "    </tr>\n",
       "  </thead>\n",
       "  <tbody>\n",
       "    <tr>\n",
       "      <th>4812</th>\n",
       "      <td>Tipster E</td>\n",
       "      <td>Yarmouth</td>\n",
       "      <td>Reaffirmed</td>\n",
       "      <td>Win</td>\n",
       "      <td>5.0</td>\n",
       "      <td>True</td>\n",
       "      <td>2014</td>\n",
       "      <td>6</td>\n",
       "      <td>26</td>\n",
       "      <td>3</td>\n",
       "      <td>0</td>\n",
       "    </tr>\n",
       "    <tr>\n",
       "      <th>34052</th>\n",
       "      <td>Tipster B1</td>\n",
       "      <td>Ascot</td>\n",
       "      <td>Polarisation</td>\n",
       "      <td>Win</td>\n",
       "      <td>9.0</td>\n",
       "      <td>False</td>\n",
       "      <td>2015</td>\n",
       "      <td>9</td>\n",
       "      <td>5</td>\n",
       "      <td>5</td>\n",
       "      <td>0</td>\n",
       "    </tr>\n",
       "    <tr>\n",
       "      <th>23400</th>\n",
       "      <td>Tipster X</td>\n",
       "      <td>Taunton</td>\n",
       "      <td>Elsafeer</td>\n",
       "      <td>Win</td>\n",
       "      <td>7.0</td>\n",
       "      <td>True</td>\n",
       "      <td>2013</td>\n",
       "      <td>11</td>\n",
       "      <td>28</td>\n",
       "      <td>3</td>\n",
       "      <td>0</td>\n",
       "    </tr>\n",
       "    <tr>\n",
       "      <th>21464</th>\n",
       "      <td>Tipster T</td>\n",
       "      <td>Newmarket</td>\n",
       "      <td>Riflescope</td>\n",
       "      <td>Win</td>\n",
       "      <td>26.0</td>\n",
       "      <td>True</td>\n",
       "      <td>2016</td>\n",
       "      <td>7</td>\n",
       "      <td>7</td>\n",
       "      <td>3</td>\n",
       "      <td>0</td>\n",
       "    </tr>\n",
       "    <tr>\n",
       "      <th>18200</th>\n",
       "      <td>Tipster R</td>\n",
       "      <td>Uttoxeter</td>\n",
       "      <td>Catching On</td>\n",
       "      <td>Win</td>\n",
       "      <td>5.0</td>\n",
       "      <td>True</td>\n",
       "      <td>2015</td>\n",
       "      <td>3</td>\n",
       "      <td>14</td>\n",
       "      <td>5</td>\n",
       "      <td>0</td>\n",
       "    </tr>\n",
       "    <tr>\n",
       "      <th>...</th>\n",
       "      <td>...</td>\n",
       "      <td>...</td>\n",
       "      <td>...</td>\n",
       "      <td>...</td>\n",
       "      <td>...</td>\n",
       "      <td>...</td>\n",
       "      <td>...</td>\n",
       "      <td>...</td>\n",
       "      <td>...</td>\n",
       "      <td>...</td>\n",
       "      <td>...</td>\n",
       "    </tr>\n",
       "    <tr>\n",
       "      <th>6265</th>\n",
       "      <td>Tipster E</td>\n",
       "      <td>Chepstow</td>\n",
       "      <td>Lac Sacre</td>\n",
       "      <td>Win</td>\n",
       "      <td>5.5</td>\n",
       "      <td>True</td>\n",
       "      <td>2015</td>\n",
       "      <td>5</td>\n",
       "      <td>19</td>\n",
       "      <td>1</td>\n",
       "      <td>1</td>\n",
       "    </tr>\n",
       "    <tr>\n",
       "      <th>11284</th>\n",
       "      <td>Tipster J</td>\n",
       "      <td>Shatin</td>\n",
       "      <td>Nuovo Record</td>\n",
       "      <td>Win</td>\n",
       "      <td>13.0</td>\n",
       "      <td>True</td>\n",
       "      <td>2016</td>\n",
       "      <td>4</td>\n",
       "      <td>24</td>\n",
       "      <td>6</td>\n",
       "      <td>0</td>\n",
       "    </tr>\n",
       "    <tr>\n",
       "      <th>38158</th>\n",
       "      <td>Tipster E1</td>\n",
       "      <td>SouthWell</td>\n",
       "      <td>Alco Sivola</td>\n",
       "      <td>Win</td>\n",
       "      <td>6.0</td>\n",
       "      <td>False</td>\n",
       "      <td>2015</td>\n",
       "      <td>10</td>\n",
       "      <td>22</td>\n",
       "      <td>3</td>\n",
       "      <td>0</td>\n",
       "    </tr>\n",
       "    <tr>\n",
       "      <th>860</th>\n",
       "      <td>Tipster A</td>\n",
       "      <td>Newmarket</td>\n",
       "      <td>Dougan</td>\n",
       "      <td>Win</td>\n",
       "      <td>7.5</td>\n",
       "      <td>True</td>\n",
       "      <td>2016</td>\n",
       "      <td>5</td>\n",
       "      <td>1</td>\n",
       "      <td>6</td>\n",
       "      <td>0</td>\n",
       "    </tr>\n",
       "    <tr>\n",
       "      <th>15795</th>\n",
       "      <td>Tipster O</td>\n",
       "      <td>Kempton</td>\n",
       "      <td>Secret Art</td>\n",
       "      <td>Win</td>\n",
       "      <td>21.0</td>\n",
       "      <td>True</td>\n",
       "      <td>2016</td>\n",
       "      <td>9</td>\n",
       "      <td>3</td>\n",
       "      <td>5</td>\n",
       "      <td>0</td>\n",
       "    </tr>\n",
       "  </tbody>\n",
       "</table>\n",
       "<p>30598 rows × 11 columns</p>\n",
       "</div>"
      ],
      "text/plain": [
       "          Tipster      Track         Horse Bet Type  Odds  TipsterActive  \\\n",
       "4812    Tipster E   Yarmouth    Reaffirmed      Win   5.0           True   \n",
       "34052  Tipster B1      Ascot  Polarisation      Win   9.0          False   \n",
       "23400   Tipster X    Taunton      Elsafeer      Win   7.0           True   \n",
       "21464   Tipster T  Newmarket    Riflescope      Win  26.0           True   \n",
       "18200   Tipster R  Uttoxeter   Catching On      Win   5.0           True   \n",
       "...           ...        ...           ...      ...   ...            ...   \n",
       "6265    Tipster E   Chepstow     Lac Sacre      Win   5.5           True   \n",
       "11284   Tipster J     Shatin  Nuovo Record      Win  13.0           True   \n",
       "38158  Tipster E1  SouthWell   Alco Sivola      Win   6.0          False   \n",
       "860     Tipster A  Newmarket        Dougan      Win   7.5           True   \n",
       "15795   Tipster O    Kempton    Secret Art      Win  21.0           True   \n",
       "\n",
       "       date_year  date_month_no  date_day  date_dow  date_is_weekend  \n",
       "4812        2014              6        26         3                0  \n",
       "34052       2015              9         5         5                0  \n",
       "23400       2013             11        28         3                0  \n",
       "21464       2016              7         7         3                0  \n",
       "18200       2015              3        14         5                0  \n",
       "...          ...            ...       ...       ...              ...  \n",
       "6265        2015              5        19         1                1  \n",
       "11284       2016              4        24         6                0  \n",
       "38158       2015             10        22         3                0  \n",
       "860         2016              5         1         6                0  \n",
       "15795       2016              9         3         5                0  \n",
       "\n",
       "[30598 rows x 11 columns]"
      ]
     },
     "execution_count": 16,
     "metadata": {},
     "output_type": "execute_result"
    }
   ],
   "source": [
    "X_train"
   ]
  },
  {
   "cell_type": "code",
   "execution_count": 17,
   "id": "c42f11e8",
   "metadata": {},
   "outputs": [
    {
     "data": {
      "text/plain": [
       "4812     Lose\n",
       "34052    Lose\n",
       "23400    Lose\n",
       "21464    Lose\n",
       "18200    Lose\n",
       "         ... \n",
       "6265     Lose\n",
       "11284    Lose\n",
       "38158    Lose\n",
       "860      Lose\n",
       "15795    Lose\n",
       "Name: Result, Length: 30598, dtype: object"
      ]
     },
     "execution_count": 17,
     "metadata": {},
     "output_type": "execute_result"
    }
   ],
   "source": [
    "y_train"
   ]
  },
  {
   "cell_type": "code",
   "execution_count": 18,
   "id": "07afbc75",
   "metadata": {},
   "outputs": [
    {
     "data": {
      "text/plain": [
       "array(['Tipster A', 'Tipster B', 'Tipster C', 'Tipster D', 'Tipster E',\n",
       "       'Tipster F', 'Tipster G', 'Tipster H', 'Tipster I', 'Tipster J',\n",
       "       'Tipster K', 'Tipster L', 'Tipster M', 'Tipster N', 'Tipster O',\n",
       "       'Tipster P', 'Tipster Q', 'Tipster R', 'Tipster S', 'Tipster T',\n",
       "       'Tipster U', 'Tipster V', 'Tipster W', 'Tipster X', 'Tipster Y',\n",
       "       'Tipster Z', 'Tipster A1', 'Tipster B1', 'Tipster C1',\n",
       "       'Tipster D1', 'Tipster E1'], dtype=object)"
      ]
     },
     "execution_count": 18,
     "metadata": {},
     "output_type": "execute_result"
    }
   ],
   "source": [
    "df['Tipster'].unique()"
   ]
  },
  {
   "cell_type": "code",
   "execution_count": 19,
   "id": "74e510f4",
   "metadata": {},
   "outputs": [
    {
     "data": {
      "text/plain": [
       "array(['Ascot', 'Thirsk', 'York', 'Newmarket', 'Newcastle', 'Lingfield',\n",
       "       'Carlisle', 'Pontefract', 'Uttoxeter', 'Hamilton', 'Chepstow',\n",
       "       'Salisbury', 'Catterick', 'Chelmsford', 'Brighton',\n",
       "       'Wolverhampton', 'Newbury', 'Market Rasen', 'Tramore', 'Leicester',\n",
       "       'Ffos Las', 'Worcester', 'Sandown', 'Deauville', 'Curragh',\n",
       "       'Stratford', 'Goodwood', 'Beverley', 'Doncaster', 'Chester',\n",
       "       'Leopardstown', 'Bath', 'Yarmouth', 'Ayr', 'Kempton', 'Haydock',\n",
       "       'Nottingham', 'Dundalk', 'Sedgefield', 'Huntingdon', 'Wetherby',\n",
       "       'Wincanton', 'Fakenham', 'Cork', 'Naas', 'Windsor', 'Exeter',\n",
       "       'Galway', 'Navan', 'Ludlow', 'Cheltenham', 'Aintree', 'Listowel',\n",
       "       'Limerick', 'Plumpton', 'Warwick', 'Thurles', 'Towcester',\n",
       "       'Musselburgh', 'Hexham', 'Taunton', 'Punchestown', 'Fontwell',\n",
       "       'SouthWell', 'Fairyhouse', 'Bangor', 'Tipperary', 'Longchamp',\n",
       "       'Meydan', 'Gowran Park', 'Cartmel', 'Down Royal', 'Kelso',\n",
       "       'Downpatrick', 'Ripon', 'Epsom', 'Perth', 'Sligo', 'Ballinrobe',\n",
       "       'Clonmel', 'Auteuil', 'Kilbeggan', 'Newton Abbot', 'Roscommon',\n",
       "       'Dundee', 'Killarney', 'Southwell', 'Bellewstown', 'Redcar',\n",
       "       'Arlington Park', 'Keeneland', 'Wexford', 'Santa Anita',\n",
       "       'Flemington', 'Layton', 'Chantilly', 'Cologne', 'Shatin',\n",
       "       'Churchill Downs', 'Pimlico', 'Dresden', 'Saratoga', 'chelmsford',\n",
       "       'Thurlow', 'Turffontein', 'Wahash', 'Grand Canyon', 'Frenchman',\n",
       "       'Home Cummins', 'Moonee Valley', 'Tokyo', 'Dusseldorf', 'Kilarney',\n",
       "       'Gowran park', 'Gulfsteam Park', 'Belmont Park'], dtype=object)"
      ]
     },
     "execution_count": 19,
     "metadata": {},
     "output_type": "execute_result"
    }
   ],
   "source": [
    "df['Track'].unique()"
   ]
  },
  {
   "cell_type": "code",
   "execution_count": 20,
   "id": "73704970",
   "metadata": {},
   "outputs": [
    {
     "data": {
      "text/plain": [
       "array(['Fredricka', 'Spend A Penny', 'Straightothepoint', ...,\n",
       "       'Connetable', 'Allchilledout', 'Dream Farr'], dtype=object)"
      ]
     },
     "execution_count": 20,
     "metadata": {},
     "output_type": "execute_result"
    }
   ],
   "source": [
    "df['Horse'].unique()"
   ]
  },
  {
   "cell_type": "code",
   "execution_count": 21,
   "id": "05fdaa3e",
   "metadata": {},
   "outputs": [
    {
     "data": {
      "text/plain": [
       "array(['Win', 'Each Way', 'win'], dtype=object)"
      ]
     },
     "execution_count": 21,
     "metadata": {},
     "output_type": "execute_result"
    }
   ],
   "source": [
    "df['Bet Type'].unique()"
   ]
  },
  {
   "cell_type": "code",
   "execution_count": 22,
   "id": "17ef49c6",
   "metadata": {},
   "outputs": [],
   "source": [
    "df['Bet Type'] = df['Bet Type'].replace(\"win\",\"Win\")"
   ]
  },
  {
   "cell_type": "code",
   "execution_count": 23,
   "id": "61caed8a",
   "metadata": {},
   "outputs": [
    {
     "data": {
      "text/plain": [
       "array([ True, False])"
      ]
     },
     "execution_count": 23,
     "metadata": {},
     "output_type": "execute_result"
    }
   ],
   "source": [
    "df['TipsterActive'].unique()"
   ]
  },
  {
   "cell_type": "code",
   "execution_count": 24,
   "id": "bbf012bb",
   "metadata": {},
   "outputs": [
    {
     "data": {
      "text/plain": [
       "array(['Lose', 'Win'], dtype=object)"
      ]
     },
     "execution_count": 24,
     "metadata": {},
     "output_type": "execute_result"
    }
   ],
   "source": [
    "df['Result'].unique()"
   ]
  },
  {
   "cell_type": "code",
   "execution_count": 25,
   "id": "0bf22bbc",
   "metadata": {},
   "outputs": [],
   "source": [
    "from sklearn import preprocessing\n",
    "\n",
    "label_encoder = preprocessing.LabelEncoder()\n",
    "y_trans = label_encoder.fit_transform(y_train)"
   ]
  },
  {
   "cell_type": "code",
   "execution_count": 26,
   "id": "7019ab55",
   "metadata": {},
   "outputs": [],
   "source": [
    "from sklearn.preprocessing import FunctionTransformer\n",
    "import pandas as pd\n",
    "\n",
    "def encode_columns(df):\n",
    "    # Clone the DataFrame to avoid altering the original data\n",
    "    df_encoded = df.copy()\n",
    "    for column in df:\n",
    "        series_column = df[column].squeeze()\n",
    "        df_encoded[column] = series_column.map(series_column.value_counts() / len(series_column))\n",
    "    return df_encoded\n",
    "\n",
    "# Wrap the function with FunctionTransformer\n",
    "encode_transformer = FunctionTransformer(encode_columns)"
   ]
  },
  {
   "cell_type": "code",
   "execution_count": 27,
   "id": "8bd5c159",
   "metadata": {},
   "outputs": [],
   "source": [
    "trf1 = ColumnTransformer([\n",
    "    ('Horse_encode', encode_transformer, ['Horse']),\n",
    "    ('Track_encode', encode_transformer, ['Track']),\n",
    "    ('Tipster_encode', encode_transformer, ['Tipster']),\n",
    "    ('ohe',OneHotEncoder(handle_unknown='ignore'),[3,6]),    \n",
    "], remainder ='passthrough')"
   ]
  },
  {
   "cell_type": "code",
   "execution_count": 28,
   "id": "e042317e",
   "metadata": {},
   "outputs": [],
   "source": [
    "from sklearn.preprocessing import StandardScaler\n",
    "trf2 = ColumnTransformer([\n",
    "    ('scale',StandardScaler(),slice(0,13))\n",
    "])"
   ]
  },
  {
   "cell_type": "code",
   "execution_count": 29,
   "id": "013edeb2",
   "metadata": {},
   "outputs": [],
   "source": [
    "clf = LogisticRegression()"
   ]
  },
  {
   "cell_type": "code",
   "execution_count": 30,
   "id": "ec0bbf6b",
   "metadata": {},
   "outputs": [],
   "source": [
    "pipe = Pipeline([\n",
    "    ('trf1',trf1),\n",
    "    ('trf2',trf2),\n",
    "    ('clf',clf)\n",
    "])"
   ]
  },
  {
   "cell_type": "code",
   "execution_count": 31,
   "id": "33858416",
   "metadata": {},
   "outputs": [
    {
     "data": {
      "text/plain": [
       "Pipeline(steps=[('trf1',\n",
       "                 ColumnTransformer(remainder='passthrough',\n",
       "                                   transformers=[('Horse_encode',\n",
       "                                                  FunctionTransformer(func=<function encode_columns at 0x0000018841B5E940>),\n",
       "                                                  ['Horse']),\n",
       "                                                 ('Track_encode',\n",
       "                                                  FunctionTransformer(func=<function encode_columns at 0x0000018841B5E940>),\n",
       "                                                  ['Track']),\n",
       "                                                 ('Tipster_encode',\n",
       "                                                  FunctionTransformer(func=<function encode_columns at 0x0000018841B5E940>),\n",
       "                                                  ['Tipster']),\n",
       "                                                 ('ohe',\n",
       "                                                  OneHotEncoder(handle_unknown='ignore'),\n",
       "                                                  [3, 6])])),\n",
       "                ('trf2',\n",
       "                 ColumnTransformer(transformers=[('scale', StandardScaler(),\n",
       "                                                  slice(0, 13, None))])),\n",
       "                ('clf', LogisticRegression())])"
      ]
     },
     "execution_count": 31,
     "metadata": {},
     "output_type": "execute_result"
    }
   ],
   "source": [
    "pipe.fit(X_train,y_train)"
   ]
  },
  {
   "cell_type": "code",
   "execution_count": 32,
   "id": "44f98578",
   "metadata": {},
   "outputs": [],
   "source": [
    "from sklearn import set_config\n",
    "set_config(display='diagram')"
   ]
  },
  {
   "cell_type": "code",
   "execution_count": 33,
   "id": "f3eb0880",
   "metadata": {},
   "outputs": [],
   "source": [
    "y_pred = pipe.predict(X_test)"
   ]
  },
  {
   "cell_type": "code",
   "execution_count": 34,
   "id": "ccfa80bd",
   "metadata": {},
   "outputs": [
    {
     "data": {
      "text/plain": [
       "0.8002614379084967"
      ]
     },
     "execution_count": 34,
     "metadata": {},
     "output_type": "execute_result"
    }
   ],
   "source": [
    "from sklearn.metrics import accuracy_score\n",
    "accuracy_score(y_test,y_pred)"
   ]
  },
  {
   "cell_type": "code",
   "execution_count": 35,
   "id": "2a083e09",
   "metadata": {},
   "outputs": [],
   "source": [
    "y_pred1 = pipe.predict(X_train)"
   ]
  },
  {
   "cell_type": "code",
   "execution_count": 36,
   "id": "773ceae9",
   "metadata": {},
   "outputs": [
    {
     "data": {
      "text/plain": [
       "0.79848356101706"
      ]
     },
     "execution_count": 36,
     "metadata": {},
     "output_type": "execute_result"
    }
   ],
   "source": [
    "from sklearn.metrics import accuracy_score\n",
    "accuracy_score(y_train,y_pred1)"
   ]
  },
  {
   "cell_type": "code",
   "execution_count": 37,
   "id": "68cbdc63",
   "metadata": {},
   "outputs": [
    {
     "data": {
      "text/plain": [
       "0.7980587733268389"
      ]
     },
     "execution_count": 37,
     "metadata": {},
     "output_type": "execute_result"
    }
   ],
   "source": [
    "# cross validation using cross_val_score\n",
    "from sklearn.model_selection import cross_val_score\n",
    "cross_val_score(pipe, X_train, y_train, cv=5, scoring='accuracy').mean()"
   ]
  },
  {
   "cell_type": "code",
   "execution_count": 38,
   "id": "00fdcdc3",
   "metadata": {},
   "outputs": [],
   "source": [
    "param_grid = {\n",
    "    \"clf__penalty\": ['l1', 'l2'],\n",
    "    \"clf__C\": [0.001, 0.01, 0.1, 1, 10, 100]\n",
    "}"
   ]
  },
  {
   "cell_type": "code",
   "execution_count": 39,
   "id": "d12460e8",
   "metadata": {},
   "outputs": [
    {
     "name": "stderr",
     "output_type": "stream",
     "text": [
      "C:\\Users\\DRITI SINGHANIA\\anaconda3\\lib\\site-packages\\sklearn\\model_selection\\_validation.py:372: FitFailedWarning: \n",
      "30 fits failed out of a total of 60.\n",
      "The score on these train-test partitions for these parameters will be set to nan.\n",
      "If these failures are not expected, you can try to debug them by setting error_score='raise'.\n",
      "\n",
      "Below are more details about the failures:\n",
      "--------------------------------------------------------------------------------\n",
      "30 fits failed with the following error:\n",
      "Traceback (most recent call last):\n",
      "  File \"C:\\Users\\DRITI SINGHANIA\\anaconda3\\lib\\site-packages\\sklearn\\model_selection\\_validation.py\", line 680, in _fit_and_score\n",
      "    estimator.fit(X_train, y_train, **fit_params)\n",
      "  File \"C:\\Users\\DRITI SINGHANIA\\anaconda3\\lib\\site-packages\\sklearn\\pipeline.py\", line 394, in fit\n",
      "    self._final_estimator.fit(Xt, y, **fit_params_last_step)\n",
      "  File \"C:\\Users\\DRITI SINGHANIA\\anaconda3\\lib\\site-packages\\sklearn\\linear_model\\_logistic.py\", line 1461, in fit\n",
      "    solver = _check_solver(self.solver, self.penalty, self.dual)\n",
      "  File \"C:\\Users\\DRITI SINGHANIA\\anaconda3\\lib\\site-packages\\sklearn\\linear_model\\_logistic.py\", line 447, in _check_solver\n",
      "    raise ValueError(\n",
      "ValueError: Solver lbfgs supports only 'l2' or 'none' penalties, got l1 penalty.\n",
      "\n",
      "  warnings.warn(some_fits_failed_message, FitFailedWarning)\n",
      "C:\\Users\\DRITI SINGHANIA\\anaconda3\\lib\\site-packages\\sklearn\\model_selection\\_search.py:969: UserWarning: One or more of the test scores are non-finite: [       nan 0.79861429        nan 0.79838557        nan 0.79805878\n",
      "        nan 0.79805877        nan 0.79812413        nan 0.79812413]\n",
      "  warnings.warn(\n"
     ]
    },
    {
     "data": {
      "text/html": [
       "<style>#sk-95868d85-4a78-4485-988f-38fcc1157283 {color: black;background-color: white;}#sk-95868d85-4a78-4485-988f-38fcc1157283 pre{padding: 0;}#sk-95868d85-4a78-4485-988f-38fcc1157283 div.sk-toggleable {background-color: white;}#sk-95868d85-4a78-4485-988f-38fcc1157283 label.sk-toggleable__label {cursor: pointer;display: block;width: 100%;margin-bottom: 0;padding: 0.3em;box-sizing: border-box;text-align: center;}#sk-95868d85-4a78-4485-988f-38fcc1157283 label.sk-toggleable__label-arrow:before {content: \"▸\";float: left;margin-right: 0.25em;color: #696969;}#sk-95868d85-4a78-4485-988f-38fcc1157283 label.sk-toggleable__label-arrow:hover:before {color: black;}#sk-95868d85-4a78-4485-988f-38fcc1157283 div.sk-estimator:hover label.sk-toggleable__label-arrow:before {color: black;}#sk-95868d85-4a78-4485-988f-38fcc1157283 div.sk-toggleable__content {max-height: 0;max-width: 0;overflow: hidden;text-align: left;background-color: #f0f8ff;}#sk-95868d85-4a78-4485-988f-38fcc1157283 div.sk-toggleable__content pre {margin: 0.2em;color: black;border-radius: 0.25em;background-color: #f0f8ff;}#sk-95868d85-4a78-4485-988f-38fcc1157283 input.sk-toggleable__control:checked~div.sk-toggleable__content {max-height: 200px;max-width: 100%;overflow: auto;}#sk-95868d85-4a78-4485-988f-38fcc1157283 input.sk-toggleable__control:checked~label.sk-toggleable__label-arrow:before {content: \"▾\";}#sk-95868d85-4a78-4485-988f-38fcc1157283 div.sk-estimator input.sk-toggleable__control:checked~label.sk-toggleable__label {background-color: #d4ebff;}#sk-95868d85-4a78-4485-988f-38fcc1157283 div.sk-label input.sk-toggleable__control:checked~label.sk-toggleable__label {background-color: #d4ebff;}#sk-95868d85-4a78-4485-988f-38fcc1157283 input.sk-hidden--visually {border: 0;clip: rect(1px 1px 1px 1px);clip: rect(1px, 1px, 1px, 1px);height: 1px;margin: -1px;overflow: hidden;padding: 0;position: absolute;width: 1px;}#sk-95868d85-4a78-4485-988f-38fcc1157283 div.sk-estimator {font-family: monospace;background-color: #f0f8ff;border: 1px dotted black;border-radius: 0.25em;box-sizing: border-box;margin-bottom: 0.5em;}#sk-95868d85-4a78-4485-988f-38fcc1157283 div.sk-estimator:hover {background-color: #d4ebff;}#sk-95868d85-4a78-4485-988f-38fcc1157283 div.sk-parallel-item::after {content: \"\";width: 100%;border-bottom: 1px solid gray;flex-grow: 1;}#sk-95868d85-4a78-4485-988f-38fcc1157283 div.sk-label:hover label.sk-toggleable__label {background-color: #d4ebff;}#sk-95868d85-4a78-4485-988f-38fcc1157283 div.sk-serial::before {content: \"\";position: absolute;border-left: 1px solid gray;box-sizing: border-box;top: 2em;bottom: 0;left: 50%;}#sk-95868d85-4a78-4485-988f-38fcc1157283 div.sk-serial {display: flex;flex-direction: column;align-items: center;background-color: white;padding-right: 0.2em;padding-left: 0.2em;}#sk-95868d85-4a78-4485-988f-38fcc1157283 div.sk-item {z-index: 1;}#sk-95868d85-4a78-4485-988f-38fcc1157283 div.sk-parallel {display: flex;align-items: stretch;justify-content: center;background-color: white;}#sk-95868d85-4a78-4485-988f-38fcc1157283 div.sk-parallel::before {content: \"\";position: absolute;border-left: 1px solid gray;box-sizing: border-box;top: 2em;bottom: 0;left: 50%;}#sk-95868d85-4a78-4485-988f-38fcc1157283 div.sk-parallel-item {display: flex;flex-direction: column;position: relative;background-color: white;}#sk-95868d85-4a78-4485-988f-38fcc1157283 div.sk-parallel-item:first-child::after {align-self: flex-end;width: 50%;}#sk-95868d85-4a78-4485-988f-38fcc1157283 div.sk-parallel-item:last-child::after {align-self: flex-start;width: 50%;}#sk-95868d85-4a78-4485-988f-38fcc1157283 div.sk-parallel-item:only-child::after {width: 0;}#sk-95868d85-4a78-4485-988f-38fcc1157283 div.sk-dashed-wrapped {border: 1px dashed gray;margin: 0 0.4em 0.5em 0.4em;box-sizing: border-box;padding-bottom: 0.4em;background-color: white;position: relative;}#sk-95868d85-4a78-4485-988f-38fcc1157283 div.sk-label label {font-family: monospace;font-weight: bold;background-color: white;display: inline-block;line-height: 1.2em;}#sk-95868d85-4a78-4485-988f-38fcc1157283 div.sk-label-container {position: relative;z-index: 2;text-align: center;}#sk-95868d85-4a78-4485-988f-38fcc1157283 div.sk-container {/* jupyter's `normalize.less` sets `[hidden] { display: none; }` but bootstrap.min.css set `[hidden] { display: none !important; }` so we also need the `!important` here to be able to override the default hidden behavior on the sphinx rendered scikit-learn.org. See: https://github.com/scikit-learn/scikit-learn/issues/21755 */display: inline-block !important;position: relative;}#sk-95868d85-4a78-4485-988f-38fcc1157283 div.sk-text-repr-fallback {display: none;}</style><div id=\"sk-95868d85-4a78-4485-988f-38fcc1157283\" class=\"sk-top-container\"><div class=\"sk-text-repr-fallback\"><pre>GridSearchCV(cv=5,\n",
       "             estimator=Pipeline(steps=[(&#x27;trf1&#x27;,\n",
       "                                        ColumnTransformer(remainder=&#x27;passthrough&#x27;,\n",
       "                                                          transformers=[(&#x27;Horse_encode&#x27;,\n",
       "                                                                         FunctionTransformer(func=&lt;function encode_columns at 0x0000018841B5E940&gt;),\n",
       "                                                                         [&#x27;Horse&#x27;]),\n",
       "                                                                        (&#x27;Track_encode&#x27;,\n",
       "                                                                         FunctionTransformer(func=&lt;function encode_columns at 0x0000018841B5E940&gt;),\n",
       "                                                                         [&#x27;Track&#x27;]),\n",
       "                                                                        (&#x27;Tipster_encode&#x27;,\n",
       "                                                                         FunctionTransformer(func=&lt;function encode_columns at 0x0000018841B5E940&gt;),\n",
       "                                                                         [&#x27;Tipster&#x27;]),\n",
       "                                                                        (&#x27;ohe&#x27;,\n",
       "                                                                         OneHotEncoder(handle_unknown=&#x27;ignore&#x27;),\n",
       "                                                                         [3,\n",
       "                                                                          6])])),\n",
       "                                       (&#x27;trf2&#x27;,\n",
       "                                        ColumnTransformer(transformers=[(&#x27;scale&#x27;,\n",
       "                                                                         StandardScaler(),\n",
       "                                                                         slice(0, 13, None))])),\n",
       "                                       (&#x27;clf&#x27;, LogisticRegression())]),\n",
       "             param_grid={&#x27;clf__C&#x27;: [0.001, 0.01, 0.1, 1, 10, 100],\n",
       "                         &#x27;clf__penalty&#x27;: [&#x27;l1&#x27;, &#x27;l2&#x27;]},\n",
       "             scoring=&#x27;accuracy&#x27;)</pre><b>Please rerun this cell to show the HTML repr or trust the notebook.</b></div><div class=\"sk-container\" hidden><div class=\"sk-item sk-dashed-wrapped\"><div class=\"sk-label-container\"><div class=\"sk-label sk-toggleable\"><input class=\"sk-toggleable__control sk-hidden--visually\" id=\"f7805819-6937-4029-89fc-a8d258583553\" type=\"checkbox\" ><label for=\"f7805819-6937-4029-89fc-a8d258583553\" class=\"sk-toggleable__label sk-toggleable__label-arrow\">GridSearchCV</label><div class=\"sk-toggleable__content\"><pre>GridSearchCV(cv=5,\n",
       "             estimator=Pipeline(steps=[(&#x27;trf1&#x27;,\n",
       "                                        ColumnTransformer(remainder=&#x27;passthrough&#x27;,\n",
       "                                                          transformers=[(&#x27;Horse_encode&#x27;,\n",
       "                                                                         FunctionTransformer(func=&lt;function encode_columns at 0x0000018841B5E940&gt;),\n",
       "                                                                         [&#x27;Horse&#x27;]),\n",
       "                                                                        (&#x27;Track_encode&#x27;,\n",
       "                                                                         FunctionTransformer(func=&lt;function encode_columns at 0x0000018841B5E940&gt;),\n",
       "                                                                         [&#x27;Track&#x27;]),\n",
       "                                                                        (&#x27;Tipster_encode&#x27;,\n",
       "                                                                         FunctionTransformer(func=&lt;function encode_columns at 0x0000018841B5E940&gt;),\n",
       "                                                                         [&#x27;Tipster&#x27;]),\n",
       "                                                                        (&#x27;ohe&#x27;,\n",
       "                                                                         OneHotEncoder(handle_unknown=&#x27;ignore&#x27;),\n",
       "                                                                         [3,\n",
       "                                                                          6])])),\n",
       "                                       (&#x27;trf2&#x27;,\n",
       "                                        ColumnTransformer(transformers=[(&#x27;scale&#x27;,\n",
       "                                                                         StandardScaler(),\n",
       "                                                                         slice(0, 13, None))])),\n",
       "                                       (&#x27;clf&#x27;, LogisticRegression())]),\n",
       "             param_grid={&#x27;clf__C&#x27;: [0.001, 0.01, 0.1, 1, 10, 100],\n",
       "                         &#x27;clf__penalty&#x27;: [&#x27;l1&#x27;, &#x27;l2&#x27;]},\n",
       "             scoring=&#x27;accuracy&#x27;)</pre></div></div></div><div class=\"sk-parallel\"><div class=\"sk-parallel-item\"><div class=\"sk-item\"><div class=\"sk-serial\"><div class=\"sk-item\"><div class=\"sk-serial\"><div class=\"sk-item sk-dashed-wrapped\"><div class=\"sk-label-container\"><div class=\"sk-label sk-toggleable\"><input class=\"sk-toggleable__control sk-hidden--visually\" id=\"983f69a3-7e5c-4e45-a65f-680b28bdc1d9\" type=\"checkbox\" ><label for=\"983f69a3-7e5c-4e45-a65f-680b28bdc1d9\" class=\"sk-toggleable__label sk-toggleable__label-arrow\">trf1: ColumnTransformer</label><div class=\"sk-toggleable__content\"><pre>ColumnTransformer(remainder=&#x27;passthrough&#x27;,\n",
       "                  transformers=[(&#x27;Horse_encode&#x27;,\n",
       "                                 FunctionTransformer(func=&lt;function encode_columns at 0x0000018841B5E940&gt;),\n",
       "                                 [&#x27;Horse&#x27;]),\n",
       "                                (&#x27;Track_encode&#x27;,\n",
       "                                 FunctionTransformer(func=&lt;function encode_columns at 0x0000018841B5E940&gt;),\n",
       "                                 [&#x27;Track&#x27;]),\n",
       "                                (&#x27;Tipster_encode&#x27;,\n",
       "                                 FunctionTransformer(func=&lt;function encode_columns at 0x0000018841B5E940&gt;),\n",
       "                                 [&#x27;Tipster&#x27;]),\n",
       "                                (&#x27;ohe&#x27;, OneHotEncoder(handle_unknown=&#x27;ignore&#x27;),\n",
       "                                 [3, 6])])</pre></div></div></div><div class=\"sk-parallel\"><div class=\"sk-parallel-item\"><div class=\"sk-item\"><div class=\"sk-label-container\"><div class=\"sk-label sk-toggleable\"><input class=\"sk-toggleable__control sk-hidden--visually\" id=\"ca278c7c-05b1-4c00-b701-cb9099a81f14\" type=\"checkbox\" ><label for=\"ca278c7c-05b1-4c00-b701-cb9099a81f14\" class=\"sk-toggleable__label sk-toggleable__label-arrow\">Horse_encode</label><div class=\"sk-toggleable__content\"><pre>[&#x27;Horse&#x27;]</pre></div></div></div><div class=\"sk-serial\"><div class=\"sk-item\"><div class=\"sk-estimator sk-toggleable\"><input class=\"sk-toggleable__control sk-hidden--visually\" id=\"bd599226-6b8d-4626-9e75-70f59a9fc364\" type=\"checkbox\" ><label for=\"bd599226-6b8d-4626-9e75-70f59a9fc364\" class=\"sk-toggleable__label sk-toggleable__label-arrow\">FunctionTransformer</label><div class=\"sk-toggleable__content\"><pre>FunctionTransformer(func=&lt;function encode_columns at 0x0000018841B5E940&gt;)</pre></div></div></div></div></div></div><div class=\"sk-parallel-item\"><div class=\"sk-item\"><div class=\"sk-label-container\"><div class=\"sk-label sk-toggleable\"><input class=\"sk-toggleable__control sk-hidden--visually\" id=\"3b62677c-2f05-4b1f-832c-8d7f3410fe93\" type=\"checkbox\" ><label for=\"3b62677c-2f05-4b1f-832c-8d7f3410fe93\" class=\"sk-toggleable__label sk-toggleable__label-arrow\">Track_encode</label><div class=\"sk-toggleable__content\"><pre>[&#x27;Track&#x27;]</pre></div></div></div><div class=\"sk-serial\"><div class=\"sk-item\"><div class=\"sk-estimator sk-toggleable\"><input class=\"sk-toggleable__control sk-hidden--visually\" id=\"f213374d-acd2-4353-b89a-25542ee77762\" type=\"checkbox\" ><label for=\"f213374d-acd2-4353-b89a-25542ee77762\" class=\"sk-toggleable__label sk-toggleable__label-arrow\">FunctionTransformer</label><div class=\"sk-toggleable__content\"><pre>FunctionTransformer(func=&lt;function encode_columns at 0x0000018841B5E940&gt;)</pre></div></div></div></div></div></div><div class=\"sk-parallel-item\"><div class=\"sk-item\"><div class=\"sk-label-container\"><div class=\"sk-label sk-toggleable\"><input class=\"sk-toggleable__control sk-hidden--visually\" id=\"1385c654-9631-45d8-9eb2-ffe6379e164d\" type=\"checkbox\" ><label for=\"1385c654-9631-45d8-9eb2-ffe6379e164d\" class=\"sk-toggleable__label sk-toggleable__label-arrow\">Tipster_encode</label><div class=\"sk-toggleable__content\"><pre>[&#x27;Tipster&#x27;]</pre></div></div></div><div class=\"sk-serial\"><div class=\"sk-item\"><div class=\"sk-estimator sk-toggleable\"><input class=\"sk-toggleable__control sk-hidden--visually\" id=\"2165bbc1-ab8a-4950-8f47-6ae2dd50554c\" type=\"checkbox\" ><label for=\"2165bbc1-ab8a-4950-8f47-6ae2dd50554c\" class=\"sk-toggleable__label sk-toggleable__label-arrow\">FunctionTransformer</label><div class=\"sk-toggleable__content\"><pre>FunctionTransformer(func=&lt;function encode_columns at 0x0000018841B5E940&gt;)</pre></div></div></div></div></div></div><div class=\"sk-parallel-item\"><div class=\"sk-item\"><div class=\"sk-label-container\"><div class=\"sk-label sk-toggleable\"><input class=\"sk-toggleable__control sk-hidden--visually\" id=\"bf34daed-861a-4c35-886a-2672dba7635e\" type=\"checkbox\" ><label for=\"bf34daed-861a-4c35-886a-2672dba7635e\" class=\"sk-toggleable__label sk-toggleable__label-arrow\">ohe</label><div class=\"sk-toggleable__content\"><pre>[3, 6]</pre></div></div></div><div class=\"sk-serial\"><div class=\"sk-item\"><div class=\"sk-estimator sk-toggleable\"><input class=\"sk-toggleable__control sk-hidden--visually\" id=\"4bfab867-8b11-4e01-bd21-83e7b6c5b171\" type=\"checkbox\" ><label for=\"4bfab867-8b11-4e01-bd21-83e7b6c5b171\" class=\"sk-toggleable__label sk-toggleable__label-arrow\">OneHotEncoder</label><div class=\"sk-toggleable__content\"><pre>OneHotEncoder(handle_unknown=&#x27;ignore&#x27;)</pre></div></div></div></div></div></div><div class=\"sk-parallel-item\"><div class=\"sk-item\"><div class=\"sk-label-container\"><div class=\"sk-label sk-toggleable\"><input class=\"sk-toggleable__control sk-hidden--visually\" id=\"4c4551b7-8b5b-41b1-817f-172ce441cc3d\" type=\"checkbox\" ><label for=\"4c4551b7-8b5b-41b1-817f-172ce441cc3d\" class=\"sk-toggleable__label sk-toggleable__label-arrow\">remainder</label><div class=\"sk-toggleable__content\"><pre>[&#x27;Odds&#x27;, &#x27;TipsterActive&#x27;, &#x27;date_month_no&#x27;, &#x27;date_day&#x27;, &#x27;date_dow&#x27;, &#x27;date_is_weekend&#x27;]</pre></div></div></div><div class=\"sk-serial\"><div class=\"sk-item\"><div class=\"sk-estimator sk-toggleable\"><input class=\"sk-toggleable__control sk-hidden--visually\" id=\"c98b4025-e945-4109-8562-1148ff891fd3\" type=\"checkbox\" ><label for=\"c98b4025-e945-4109-8562-1148ff891fd3\" class=\"sk-toggleable__label sk-toggleable__label-arrow\">passthrough</label><div class=\"sk-toggleable__content\"><pre>passthrough</pre></div></div></div></div></div></div></div></div><div class=\"sk-item sk-dashed-wrapped\"><div class=\"sk-label-container\"><div class=\"sk-label sk-toggleable\"><input class=\"sk-toggleable__control sk-hidden--visually\" id=\"d2d7a6d6-8e6c-4f20-8e11-fbb01c4190df\" type=\"checkbox\" ><label for=\"d2d7a6d6-8e6c-4f20-8e11-fbb01c4190df\" class=\"sk-toggleable__label sk-toggleable__label-arrow\">trf2: ColumnTransformer</label><div class=\"sk-toggleable__content\"><pre>ColumnTransformer(transformers=[(&#x27;scale&#x27;, StandardScaler(),\n",
       "                                 slice(0, 13, None))])</pre></div></div></div><div class=\"sk-parallel\"><div class=\"sk-parallel-item\"><div class=\"sk-item\"><div class=\"sk-label-container\"><div class=\"sk-label sk-toggleable\"><input class=\"sk-toggleable__control sk-hidden--visually\" id=\"9b96647e-e365-412c-84e1-22b6a73cb274\" type=\"checkbox\" ><label for=\"9b96647e-e365-412c-84e1-22b6a73cb274\" class=\"sk-toggleable__label sk-toggleable__label-arrow\">scale</label><div class=\"sk-toggleable__content\"><pre>slice(0, 13, None)</pre></div></div></div><div class=\"sk-serial\"><div class=\"sk-item\"><div class=\"sk-estimator sk-toggleable\"><input class=\"sk-toggleable__control sk-hidden--visually\" id=\"0ba1602a-1fff-4633-b0a2-2ab9bff7bb81\" type=\"checkbox\" ><label for=\"0ba1602a-1fff-4633-b0a2-2ab9bff7bb81\" class=\"sk-toggleable__label sk-toggleable__label-arrow\">StandardScaler</label><div class=\"sk-toggleable__content\"><pre>StandardScaler()</pre></div></div></div></div></div></div></div></div><div class=\"sk-item\"><div class=\"sk-estimator sk-toggleable\"><input class=\"sk-toggleable__control sk-hidden--visually\" id=\"011934f3-99e8-442d-820e-91eb5ba05c07\" type=\"checkbox\" ><label for=\"011934f3-99e8-442d-820e-91eb5ba05c07\" class=\"sk-toggleable__label sk-toggleable__label-arrow\">LogisticRegression</label><div class=\"sk-toggleable__content\"><pre>LogisticRegression()</pre></div></div></div></div></div></div></div></div></div></div></div></div>"
      ],
      "text/plain": [
       "GridSearchCV(cv=5,\n",
       "             estimator=Pipeline(steps=[('trf1',\n",
       "                                        ColumnTransformer(remainder='passthrough',\n",
       "                                                          transformers=[('Horse_encode',\n",
       "                                                                         FunctionTransformer(func=<function encode_columns at 0x0000018841B5E940>),\n",
       "                                                                         ['Horse']),\n",
       "                                                                        ('Track_encode',\n",
       "                                                                         FunctionTransformer(func=<function encode_columns at 0x0000018841B5E940>),\n",
       "                                                                         ['Track']),\n",
       "                                                                        ('Tipster_encode',\n",
       "                                                                         FunctionTransformer(func=<function encode_columns at 0x0000018841B5E940>),\n",
       "                                                                         ['Tipster']),\n",
       "                                                                        ('ohe',\n",
       "                                                                         OneHotEncoder(handle_unknown='ignore'),\n",
       "                                                                         [3,\n",
       "                                                                          6])])),\n",
       "                                       ('trf2',\n",
       "                                        ColumnTransformer(transformers=[('scale',\n",
       "                                                                         StandardScaler(),\n",
       "                                                                         slice(0, 13, None))])),\n",
       "                                       ('clf', LogisticRegression())]),\n",
       "             param_grid={'clf__C': [0.001, 0.01, 0.1, 1, 10, 100],\n",
       "                         'clf__penalty': ['l1', 'l2']},\n",
       "             scoring='accuracy')"
      ]
     },
     "execution_count": 39,
     "metadata": {},
     "output_type": "execute_result"
    }
   ],
   "source": [
    "from sklearn.model_selection import GridSearchCV\n",
    "grid = GridSearchCV(pipe, param_grid, cv=5, scoring='accuracy')\n",
    "grid.fit(X_train, y_train)"
   ]
  },
  {
   "cell_type": "code",
   "execution_count": 40,
   "id": "701b1ff0",
   "metadata": {},
   "outputs": [],
   "source": [
    "from sklearn import set_config\n",
    "set_config(display='diagram')"
   ]
  },
  {
   "cell_type": "code",
   "execution_count": 41,
   "id": "36f5b7e2",
   "metadata": {},
   "outputs": [
    {
     "data": {
      "text/plain": [
       "0.7986142914975"
      ]
     },
     "execution_count": 41,
     "metadata": {},
     "output_type": "execute_result"
    }
   ],
   "source": [
    "grid.best_score_"
   ]
  },
  {
   "cell_type": "code",
   "execution_count": 42,
   "id": "f9ffa387",
   "metadata": {},
   "outputs": [
    {
     "data": {
      "text/plain": [
       "{'clf__C': 0.001, 'clf__penalty': 'l2'}"
      ]
     },
     "execution_count": 42,
     "metadata": {},
     "output_type": "execute_result"
    }
   ],
   "source": [
    "grid.best_params_"
   ]
  },
  {
   "cell_type": "code",
   "execution_count": 43,
   "id": "3c7e54da",
   "metadata": {},
   "outputs": [],
   "source": [
    "# export \n",
    "import pickle\n",
    "pickle.dump(pipe,open('lr_pile1.pkl','wb'))"
   ]
  },
  {
   "cell_type": "code",
   "execution_count": null,
   "id": "10fa55a8",
   "metadata": {},
   "outputs": [],
   "source": []
  }
 ],
 "metadata": {
  "kernelspec": {
   "display_name": "Python 3 (ipykernel)",
   "language": "python",
   "name": "python3"
  },
  "language_info": {
   "codemirror_mode": {
    "name": "ipython",
    "version": 3
   },
   "file_extension": ".py",
   "mimetype": "text/x-python",
   "name": "python",
   "nbconvert_exporter": "python",
   "pygments_lexer": "ipython3",
   "version": "3.9.13"
  }
 },
 "nbformat": 4,
 "nbformat_minor": 5
}
